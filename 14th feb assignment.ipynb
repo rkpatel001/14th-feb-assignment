{
 "cells": [
  {
   "cell_type": "code",
   "execution_count": null,
   "id": "09ebb183-dd79-4574-ad16-0a32b130cad3",
   "metadata": {},
   "outputs": [],
   "source": [
    "# Q1.What is multithreading in python and name the module used to handle threads in python\n",
    "\n",
    "'''\n",
    "    Multithreading refers to concurrently executing multiple threads by rapidly switching the control of the CPU between threads\n",
    "\n",
    "   threading.currentThread() − Returns the number of thread objects in the caller's thread control. \n",
    "   threading.enumerate() − Returns a list of all thread objects that are currently active.\n",
    "'''"
   ]
  },
  {
   "cell_type": "code",
   "execution_count": null,
   "id": "acccf2e4-56d8-4edb-ae03-eadea98b5795",
   "metadata": {},
   "outputs": [],
   "source": [
    "# Q2 Why threading module used ? write the use of following function\n",
    "\n",
    "''' Multithreaded programs can run faster on computer systems with multiple CPUs, because theses threads can be executed truly concurrent. \n",
    "\n",
    "threading.activeCount() − Returns the number of thread objects that are active.\n",
    "threading.currentThread() − Returns the number of thread objects in the caller's thread\n",
    "threading.enumerate() − Returns a list of all thread objects that are currently active\n",
    "'''"
   ]
  },
  {
   "cell_type": "code",
   "execution_count": null,
   "id": "78e94b1f-9655-4edb-81a1-945c0860ce50",
   "metadata": {},
   "outputs": [],
   "source": []
  },
  {
   "cell_type": "code",
   "execution_count": null,
   "id": "375eeffa-4fce-46bc-b412-83fe67ae8de1",
   "metadata": {},
   "outputs": [],
   "source": [
    "# Q3 "
   ]
  },
  {
   "cell_type": "code",
   "execution_count": null,
   "id": "9a11fd5e-acf8-409c-a01f-28605b893ada",
   "metadata": {},
   "outputs": [],
   "source": [
    "'''The . run() method executes any target function belonging to a given thread object that is now active.\n",
    "   The start() method starts a thread by calling the run method.\n",
    "   is_alive() method is an inbuilt method of the Thread class of the threading module in Python. '''"
   ]
  },
  {
   "cell_type": "code",
   "execution_count": null,
   "id": "7e7022c3-ace1-4b65-85c3-652481f25b8f",
   "metadata": {},
   "outputs": [],
   "source": []
  },
  {
   "cell_type": "code",
   "execution_count": null,
   "id": "f3a2e6a9-e443-4e83-a256-8bcad0732803",
   "metadata": {},
   "outputs": [],
   "source": []
  },
  {
   "cell_type": "code",
   "execution_count": 23,
   "id": "674d7a15-f355-4450-b486-69d595527866",
   "metadata": {},
   "outputs": [],
   "source": [
    "import threading\n",
    "\n",
    "def test(a):\n",
    "    print(\"square is :\",a**2/)\n",
    "    "
   ]
  },
  {
   "cell_type": "code",
   "execution_count": 24,
   "id": "0f135ea0-4b1b-42e3-9461-f54ef2dc52b3",
   "metadata": {},
   "outputs": [
    {
     "name": "stdout",
     "output_type": "stream",
     "text": [
      "square is : 125\n"
     ]
    }
   ],
   "source": [
    "test(5)"
   ]
  },
  {
   "cell_type": "code",
   "execution_count": 25,
   "id": "b585c465-6829-4380-9fc4-0b0c6905ea0e",
   "metadata": {},
   "outputs": [],
   "source": [
    "thread = [threading.Thread(target= test , args=(i,))for i in range(10)]"
   ]
  },
  {
   "cell_type": "code",
   "execution_count": 26,
   "id": "4e103323-c55c-40c4-83a6-b28f86ff3489",
   "metadata": {},
   "outputs": [
    {
     "name": "stdout",
     "output_type": "stream",
     "text": [
      "square is : 0\n",
      "square is : 1\n",
      "square is : 8\n",
      "square is : 27\n",
      "square is : 64\n",
      "square is : 125\n",
      "square is : 216\n",
      "square is : 343\n",
      "square is : 512\n",
      "square is : 729\n"
     ]
    }
   ],
   "source": [
    "for i in thread :\n",
    "    i.start()\n"
   ]
  },
  {
   "cell_type": "code",
   "execution_count": 19,
   "id": "d2246724-4729-40ae-a78d-00427e264b5a",
   "metadata": {},
   "outputs": [],
   "source": [
    "import threading\n",
    "\n",
    "def cube(a):\n",
    "    print(\"cube of %d is : %d \"%(i,a**3))\n",
    "    \n",
    "thread1=[threading.Thread(target=cube,args=(i,)) for i in range(10)]\n",
    "    "
   ]
  },
  {
   "cell_type": "code",
   "execution_count": 22,
   "id": "0f3d52f9-231b-4108-9e61-121a3debaaab",
   "metadata": {},
   "outputs": [
    {
     "ename": "RuntimeError",
     "evalue": "threads can only be started once",
     "output_type": "error",
     "traceback": [
      "\u001b[0;31m---------------------------------------------------------------------------\u001b[0m",
      "\u001b[0;31mRuntimeError\u001b[0m                              Traceback (most recent call last)",
      "Cell \u001b[0;32mIn[22], line 2\u001b[0m\n\u001b[1;32m      1\u001b[0m \u001b[38;5;28;01mfor\u001b[39;00m i \u001b[38;5;129;01min\u001b[39;00m thread1:\n\u001b[0;32m----> 2\u001b[0m     \u001b[43mi\u001b[49m\u001b[38;5;241;43m.\u001b[39;49m\u001b[43mstart\u001b[49m\u001b[43m(\u001b[49m\u001b[43m)\u001b[49m\n",
      "File \u001b[0;32m/opt/conda/lib/python3.10/threading.py:930\u001b[0m, in \u001b[0;36mThread.start\u001b[0;34m(self)\u001b[0m\n\u001b[1;32m    927\u001b[0m     \u001b[38;5;28;01mraise\u001b[39;00m \u001b[38;5;167;01mRuntimeError\u001b[39;00m(\u001b[38;5;124m\"\u001b[39m\u001b[38;5;124mthread.__init__() not called\u001b[39m\u001b[38;5;124m\"\u001b[39m)\n\u001b[1;32m    929\u001b[0m \u001b[38;5;28;01mif\u001b[39;00m \u001b[38;5;28mself\u001b[39m\u001b[38;5;241m.\u001b[39m_started\u001b[38;5;241m.\u001b[39mis_set():\n\u001b[0;32m--> 930\u001b[0m     \u001b[38;5;28;01mraise\u001b[39;00m \u001b[38;5;167;01mRuntimeError\u001b[39;00m(\u001b[38;5;124m\"\u001b[39m\u001b[38;5;124mthreads can only be started once\u001b[39m\u001b[38;5;124m\"\u001b[39m)\n\u001b[1;32m    932\u001b[0m \u001b[38;5;28;01mwith\u001b[39;00m _active_limbo_lock:\n\u001b[1;32m    933\u001b[0m     _limbo[\u001b[38;5;28mself\u001b[39m] \u001b[38;5;241m=\u001b[39m \u001b[38;5;28mself\u001b[39m\n",
      "\u001b[0;31mRuntimeError\u001b[0m: threads can only be started once"
     ]
    }
   ],
   "source": [
    "for i in thread1:\n",
    "    i.start()"
   ]
  },
  {
   "cell_type": "code",
   "execution_count": null,
   "id": "f6e45dc7-d176-4d6b-a4c5-36306746a1e2",
   "metadata": {},
   "outputs": [],
   "source": []
  },
  {
   "cell_type": "code",
   "execution_count": null,
   "id": "ffd570fd-d0e4-4771-acbc-6522454542b6",
   "metadata": {},
   "outputs": [],
   "source": [
    "# Advantages and Disasvantages of multithreading\n",
    "\n",
    "'''advantages\n",
    "Better use of CPU resource\n",
    "Enhanced performance by decreased development time\n",
    "Simplified and streamlined program coding\n",
    "\n",
    "Disadvantages \n",
    "Complex debugging and testing processes\n",
    "Increased difficulty level in writing a program\n",
    "Unpredictable results\n",
    "\n",
    "'''"
   ]
  },
  {
   "cell_type": "code",
   "execution_count": null,
   "id": "b6ca909f-f29e-42b1-9d5d-a5e35afbc46d",
   "metadata": {},
   "outputs": [],
   "source": []
  },
  {
   "cell_type": "code",
   "execution_count": null,
   "id": "dcb3fd94-5d2f-4390-b47e-642ffdf1fb59",
   "metadata": {},
   "outputs": [],
   "source": [
    "# explain deadlocks and race conditions\n",
    "\n",
    "'''A race condition occurs when two threads use the same variable at a given time.\n",
    "Deadlock exists when two threads seek one lock simultaneously.\n",
    "This situation will stop both threads from processing or executing the functions.'''"
   ]
  }
 ],
 "metadata": {
  "kernelspec": {
   "display_name": "Python 3 (ipykernel)",
   "language": "python",
   "name": "python3"
  },
  "language_info": {
   "codemirror_mode": {
    "name": "ipython",
    "version": 3
   },
   "file_extension": ".py",
   "mimetype": "text/x-python",
   "name": "python",
   "nbconvert_exporter": "python",
   "pygments_lexer": "ipython3",
   "version": "3.10.8"
  }
 },
 "nbformat": 4,
 "nbformat_minor": 5
}
